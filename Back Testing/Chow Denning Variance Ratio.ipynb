{
 "cells": [
  {
   "cell_type": "code",
   "execution_count": 57,
   "id": "69002f57",
   "metadata": {},
   "outputs": [],
   "source": [
    "import numpy as np\n",
    "import pandas as pd\n",
    "import yfinance as yf\n",
    "import scipy.stats as sps\n",
    "import matplotlib.pyplot as plt"
   ]
  },
  {
   "cell_type": "code",
   "execution_count": 58,
   "id": "73ea2106",
   "metadata": {},
   "outputs": [
    {
     "name": "stdout",
     "output_type": "stream",
     "text": [
      "[*********************100%***********************]  1 of 1 completed\n"
     ]
    }
   ],
   "source": [
    "ticker = '^GSPC'\n",
    "start = '2018-12-31'\n",
    "end = '2023-6-15'\n",
    "data = yf.download(ticker, start, end)['Adj Close']\n",
    "returns = data.pct_change()[1:]\n",
    "max_t = 64\n",
    "var0 = returns.var()\n",
    "n = len(returns)"
   ]
  },
  {
   "cell_type": "code",
   "execution_count": 59,
   "id": "b495e378",
   "metadata": {},
   "outputs": [],
   "source": [
    "variance_ratio_output = pd.DataFrame()\n",
    "for t in np.arange(2, max_t+1):\n",
    "    variance = returns.rolling(t).sum().var()\n",
    "    variance_ratio = variance/(t*var0) - 1 #see if random walk\n",
    "    standard_error = (2*(2*t-1)*(t-1)/(3*t*n))**(1/2)\n",
    "    z_stat = variance_ratio/standard_error\n",
    "    p_value = 2*(1-sps.norm.cdf(abs(z_stat)))\n",
    "    variance_ratio_output[t] = [var0, variance, variance_ratio, z_stat, p_value]"
   ]
  },
  {
   "cell_type": "code",
   "execution_count": 60,
   "id": "d0bb3dd1",
   "metadata": {},
   "outputs": [],
   "source": [
    "min_p_value = min(variance_ratio_output.iloc[4])\n",
    "chow_denning = 1 - (1 - min_p_value)**(max_t - 1)\n",
    "max_z_stat = variance_ratio_output.iloc[3][variance_ratio_output.iloc[4] == min_p_value].values[0]"
   ]
  },
  {
   "cell_type": "code",
   "execution_count": 61,
   "id": "25a0dbe8",
   "metadata": {},
   "outputs": [
    {
     "name": "stdout",
     "output_type": "stream",
     "text": [
      "market is mean-reverting (antipersistent)\n"
     ]
    },
    {
     "data": {
      "text/plain": [
       "[<matplotlib.lines.Line2D at 0x7fb1e47c5ac0>]"
      ]
     },
     "execution_count": 61,
     "metadata": {},
     "output_type": "execute_result"
    },
    {
     "data": {
      "image/png": "[encoded data removed]",
      "text/plain": [
       "<Figure size 432x288 with 1 Axes>"
      ]
     },
     "metadata": {
      "needs_background": "light"
     },
     "output_type": "display_data"
    }
   ],
   "source": [
    "if chow_denning > 0.1:\n",
    "    print('market is efficient')\n",
    "elif max_z_stat > 0:\n",
    "    print('market is trending (persistent)')\n",
    "else:\n",
    "    print('market is mean-reverting (antipersistent)')\n",
    "\n",
    "plt.plot(variance_ratio_output.iloc[3])"
   ]
  }
 ],
 "metadata": {
  "kernelspec": {
   "display_name": "Python 3",
   "language": "python",
   "name": "python3"
  },
  "language_info": {
   "codemirror_mode": {
    "name": "ipython",
    "version": 3
   },
   "file_extension": ".py",
   "mimetype": "text/x-python",
   "name": "python",
   "nbconvert_exporter": "python",
   "pygments_lexer": "ipython3",
   "version": "3.8.5"
  }
 },
 "nbformat": 4,
 "nbformat_minor": 5
}
